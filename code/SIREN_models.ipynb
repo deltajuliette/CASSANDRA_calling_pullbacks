{
 "cells": [
  {
   "cell_type": "markdown",
   "metadata": {},
   "source": [
    "# Introducing SIREN"
   ]
  },
  {
   "cell_type": "code",
   "execution_count": 86,
   "metadata": {},
   "outputs": [],
   "source": [
    "# Import libraries\n",
    "import pandas as pd\n",
    "import pickle\n",
    "import matplotlib.pyplot as plt\n",
    "import seaborn as sns\n",
    "\n",
    "from sklearn.metrics import (accuracy_score, precision_score, recall_score, f1_score, confusion_matrix, \n",
    "                             plot_confusion_matrix, classification_report, roc_auc_score, roc_curve,plot_roc_curve, ConfusionMatrixDisplay)\n",
    "\n",
    "from sklearn.model_selection import train_test_split, GridSearchCV, cross_val_score\n",
    "from sklearn.pipeline import Pipeline\n",
    "\n",
    "from sklearn.ensemble import (RandomForestClassifier, ExtraTreesClassifier, GradientBoostingClassifier,\n",
    "                              AdaBoostClassifier, VotingClassifier, BaggingClassifier)\n",
    "\n",
    "from sklearn.tree import DecisionTreeClassifier\n",
    "from sklearn.svm import SVC\n",
    "from sklearn.preprocessing import PolynomialFeatures, StandardScaler, RobustScaler, PowerTransformer\n",
    "from sklearn.linear_model import LogisticRegression\n",
    "from xgboost import XGBClassifier, plot_importance\n",
    "\n",
    "# Import custom module\n",
    "import SIREN_func"
   ]
  },
  {
   "cell_type": "code",
   "execution_count": 24,
   "metadata": {},
   "outputs": [],
   "source": [
    " # Ensuring the notebook remains tidy\n",
    "import warnings\n",
    "warnings.filterwarnings('ignore')"
   ]
  },
  {
   "cell_type": "code",
   "execution_count": 2,
   "metadata": {},
   "outputs": [],
   "source": [
    "full = pd.read_pickle('../data/full.pkl')"
   ]
  },
  {
   "cell_type": "code",
   "execution_count": 3,
   "metadata": {},
   "outputs": [
    {
     "name": "stdout",
     "output_type": "stream",
     "text": [
      "Dataset Statistics:\n",
      "Shape of dataframe: (823, 285)\n",
      "% of Null values in dataframe: 0.0%\n",
      "% duplicate rows: 0.0%\n",
      "\n",
      "Column names: Index(['eri', 'eri_1m_chg', 'eri_3m_chg', 'cesiusd_1w_chg', 'cesieur_1w_chg',\n",
      "       'cesigbp_1w_chg', 'cesijpy_1w_chg', 'cesicny_1w_chg', 'cesiglf_1w_chg',\n",
      "       'cesiusd_4w_chg',\n",
      "       ...\n",
      "       'skew', 'aaii_bull', 'aaii_bear', 'aaii_neut', 'cftc_nc_net',\n",
      "       'cftc_nc_long', 'cftc_nc_short', 'cftc_oi', 'cftc_nc_net_pct_oi',\n",
      "       'cboe_us'],\n",
      "      dtype='object', length=285)\n",
      "Columns Count: \n",
      "float64    285\n",
      "dtype: int64\n"
     ]
    }
   ],
   "source": [
    "# Preview dataset\n",
    "SIREN_func.eda_clean(full)"
   ]
  },
  {
   "cell_type": "code",
   "execution_count": 9,
   "metadata": {},
   "outputs": [],
   "source": [
    "X = full.copy().drop(columns=['spx', 'sx5e', 'ftse100', 'tpx', 'msci_axj', 'msci_acw']).reset_index()\n",
    "X_train = X.loc[X['date'] < '2015'].drop(columns='date')\n",
    "X_validate = X.loc[(X['date'] >= '2015') & (X['date'] < '2019')].drop(columns='date')\n",
    "X_test = X.loc[(X['date'] >= '2019') & (X['date'] != '2020')].drop(columns='date')"
   ]
  },
  {
   "cell_type": "code",
   "execution_count": 96,
   "metadata": {},
   "outputs": [],
   "source": [
    "y = full['spx'].copy().apply(lambda x: 1 if x < 2.5 else 0).reset_index()\n",
    "y_train = y.loc[y['date'] < '2015'].drop(columns='date')\n",
    "y_validate = y.loc[(y['date'] >= '2015') & (y['date'] < '2019')].drop(columns='date')\n",
    "y_test = y.loc[(y['date'] >= '2019') & (y['date'] != '2020')].drop(columns='date')"
   ]
  },
  {
   "cell_type": "code",
   "execution_count": 97,
   "metadata": {},
   "outputs": [],
   "source": [
    "# Set-up pipeline for CVEC\n",
    "pipe_logr = Pipeline([\n",
    "    ('ss', StandardScaler()),\n",
    "    ('logr', LogisticRegression())\n",
    "])"
   ]
  },
  {
   "cell_type": "code",
   "execution_count": 98,
   "metadata": {},
   "outputs": [],
   "source": [
    "def run_model(mod, mod_params={}, grid_search=False):\n",
    "    # Initialise dictionary to store model results\n",
    "    results = {}\n",
    "\n",
    "    # Create pipeline\n",
    "    pipe = Pipeline([\n",
    "        ('ss', StandardScaler()),\n",
    "        (mod, models[mod])\n",
    "        ])\n",
    "\n",
    "    if grid_search:\n",
    "        # Create list to store gridsearch results\n",
    "        gs = GridSearchCV(pipe, param_grid=mod_params, cv=5, verbose=1, scoring='roc_auc', n_jobs=-1)\n",
    "        gs.fit(X_train, y_train)\n",
    "        pipe = gs\n",
    "\n",
    "    else:\n",
    "        pipe.fit(X_train, y_train)\n",
    "\n",
    "    # Retrieve metrics\n",
    "    val_predictions = pipe.predict(X_validate)\n",
    "    test_predictions = pipe.predict(X_test)\n",
    "    y_validate_pred_prob = pipe.predict_proba(X_validate)[:,1]\n",
    "    y_test_pred_prob = pipe.predict_proba(X_test)[:,1]\n",
    "\n",
    "    results['model'] = mod\n",
    "    results['val_accuracy'] = accuracy_score(y_validate, val_predictions)\n",
    "    results['val_f1'] = f1_score(y_validate, val_predictions)\n",
    "    results['val_recall'] = recall_score(y_validate, val_predictions)\n",
    "    results['val_precision'] = precision_score(y_validate, val_predictions)\n",
    "    results['val_auc'] = roc_auc_score(y_validate, y_validate_pred_prob)\n",
    "\n",
    "    results['test_accuracy'] = accuracy_score(y_test, test_predictions)\n",
    "    results['test_f1'] = f1_score(y_test, test_predictions)\n",
    "    results['test_recall'] = recall_score(y_test, test_predictions)\n",
    "    results['test_precision'] = precision_score(y_test, test_predictions)\n",
    "    results['test_auc'] = roc_auc_score(y_test, y_test_pred_prob)\n",
    "\n",
    "    if grid_search == True:\n",
    "        gs_list.append(results)\n",
    "        print(f'Best parameters are:')\n",
    "        display(pipe.best_params_)\n",
    "\n",
    "    else: init_list.append(results)\n",
    "\n",
    "    return pipe\n"
   ]
  },
  {
   "cell_type": "code",
   "execution_count": 100,
   "metadata": {},
   "outputs": [
    {
     "data": {
      "text/html": [
       "<div>\n",
       "<style scoped>\n",
       "    .dataframe tbody tr th:only-of-type {\n",
       "        vertical-align: middle;\n",
       "    }\n",
       "\n",
       "    .dataframe tbody tr th {\n",
       "        vertical-align: top;\n",
       "    }\n",
       "\n",
       "    .dataframe thead th {\n",
       "        text-align: right;\n",
       "    }\n",
       "</style>\n",
       "<table border=\"1\" class=\"dataframe\">\n",
       "  <thead>\n",
       "    <tr style=\"text-align: right;\">\n",
       "      <th></th>\n",
       "      <th>model</th>\n",
       "      <th>val_accuracy</th>\n",
       "      <th>val_f1</th>\n",
       "      <th>val_recall</th>\n",
       "      <th>val_precision</th>\n",
       "      <th>val_auc</th>\n",
       "      <th>test_accuracy</th>\n",
       "      <th>test_f1</th>\n",
       "      <th>test_recall</th>\n",
       "      <th>test_precision</th>\n",
       "      <th>test_auc</th>\n",
       "    </tr>\n",
       "  </thead>\n",
       "  <tbody>\n",
       "    <tr>\n",
       "      <th>0</th>\n",
       "      <td>et</td>\n",
       "      <td>0.789474</td>\n",
       "      <td>0.879781</td>\n",
       "      <td>0.975758</td>\n",
       "      <td>0.800995</td>\n",
       "      <td>0.607782</td>\n",
       "      <td>0.560510</td>\n",
       "      <td>0.698690</td>\n",
       "      <td>0.963855</td>\n",
       "      <td>0.547945</td>\n",
       "      <td>0.684223</td>\n",
       "    </tr>\n",
       "    <tr>\n",
       "      <th>1</th>\n",
       "      <td>rf</td>\n",
       "      <td>0.770335</td>\n",
       "      <td>0.868132</td>\n",
       "      <td>0.957576</td>\n",
       "      <td>0.793970</td>\n",
       "      <td>0.579959</td>\n",
       "      <td>0.535032</td>\n",
       "      <td>0.681223</td>\n",
       "      <td>0.939759</td>\n",
       "      <td>0.534247</td>\n",
       "      <td>0.645067</td>\n",
       "    </tr>\n",
       "    <tr>\n",
       "      <th>2</th>\n",
       "      <td>svc</td>\n",
       "      <td>0.770335</td>\n",
       "      <td>0.866667</td>\n",
       "      <td>0.945455</td>\n",
       "      <td>0.800000</td>\n",
       "      <td>0.623003</td>\n",
       "      <td>0.560510</td>\n",
       "      <td>0.706383</td>\n",
       "      <td>1.000000</td>\n",
       "      <td>0.546053</td>\n",
       "      <td>0.711495</td>\n",
       "    </tr>\n",
       "    <tr>\n",
       "      <th>3</th>\n",
       "      <td>xgb</td>\n",
       "      <td>0.727273</td>\n",
       "      <td>0.835735</td>\n",
       "      <td>0.878788</td>\n",
       "      <td>0.796703</td>\n",
       "      <td>0.493388</td>\n",
       "      <td>0.592357</td>\n",
       "      <td>0.706422</td>\n",
       "      <td>0.927711</td>\n",
       "      <td>0.570370</td>\n",
       "      <td>0.626343</td>\n",
       "    </tr>\n",
       "    <tr>\n",
       "      <th>4</th>\n",
       "      <td>gb</td>\n",
       "      <td>0.650718</td>\n",
       "      <td>0.776758</td>\n",
       "      <td>0.769697</td>\n",
       "      <td>0.783951</td>\n",
       "      <td>0.489532</td>\n",
       "      <td>0.515924</td>\n",
       "      <td>0.644860</td>\n",
       "      <td>0.831325</td>\n",
       "      <td>0.526718</td>\n",
       "      <td>0.553077</td>\n",
       "    </tr>\n",
       "    <tr>\n",
       "      <th>5</th>\n",
       "      <td>ada</td>\n",
       "      <td>0.622010</td>\n",
       "      <td>0.749206</td>\n",
       "      <td>0.715152</td>\n",
       "      <td>0.786667</td>\n",
       "      <td>0.450138</td>\n",
       "      <td>0.547771</td>\n",
       "      <td>0.616216</td>\n",
       "      <td>0.686747</td>\n",
       "      <td>0.558824</td>\n",
       "      <td>0.533214</td>\n",
       "    </tr>\n",
       "    <tr>\n",
       "      <th>6</th>\n",
       "      <td>dt</td>\n",
       "      <td>0.559809</td>\n",
       "      <td>0.689189</td>\n",
       "      <td>0.618182</td>\n",
       "      <td>0.778626</td>\n",
       "      <td>0.479545</td>\n",
       "      <td>0.503185</td>\n",
       "      <td>0.524390</td>\n",
       "      <td>0.518072</td>\n",
       "      <td>0.530864</td>\n",
       "      <td>0.502279</td>\n",
       "    </tr>\n",
       "    <tr>\n",
       "      <th>7</th>\n",
       "      <td>lr</td>\n",
       "      <td>0.521531</td>\n",
       "      <td>0.640288</td>\n",
       "      <td>0.539394</td>\n",
       "      <td>0.787611</td>\n",
       "      <td>0.516942</td>\n",
       "      <td>0.617834</td>\n",
       "      <td>0.642857</td>\n",
       "      <td>0.650602</td>\n",
       "      <td>0.635294</td>\n",
       "      <td>0.675838</td>\n",
       "    </tr>\n",
       "  </tbody>\n",
       "</table>\n",
       "</div>"
      ],
      "text/plain": [
       "  model  val_accuracy    val_f1  val_recall  val_precision   val_auc  \\\n",
       "0    et      0.789474  0.879781    0.975758       0.800995  0.607782   \n",
       "1    rf      0.770335  0.868132    0.957576       0.793970  0.579959   \n",
       "2   svc      0.770335  0.866667    0.945455       0.800000  0.623003   \n",
       "3   xgb      0.727273  0.835735    0.878788       0.796703  0.493388   \n",
       "4    gb      0.650718  0.776758    0.769697       0.783951  0.489532   \n",
       "5   ada      0.622010  0.749206    0.715152       0.786667  0.450138   \n",
       "6    dt      0.559809  0.689189    0.618182       0.778626  0.479545   \n",
       "7    lr      0.521531  0.640288    0.539394       0.787611  0.516942   \n",
       "\n",
       "   test_accuracy   test_f1  test_recall  test_precision  test_auc  \n",
       "0       0.560510  0.698690     0.963855        0.547945  0.684223  \n",
       "1       0.535032  0.681223     0.939759        0.534247  0.645067  \n",
       "2       0.560510  0.706383     1.000000        0.546053  0.711495  \n",
       "3       0.592357  0.706422     0.927711        0.570370  0.626343  \n",
       "4       0.515924  0.644860     0.831325        0.526718  0.553077  \n",
       "5       0.547771  0.616216     0.686747        0.558824  0.533214  \n",
       "6       0.503185  0.524390     0.518072        0.530864  0.502279  \n",
       "7       0.617834  0.642857     0.650602        0.635294  0.675838  "
      ]
     },
     "metadata": {},
     "output_type": "display_data"
    },
    {
     "name": "stdout",
     "output_type": "stream",
     "text": [
      "Wall time: 9.93 s\n"
     ]
    }
   ],
   "source": [
    "%%time\n",
    "\n",
    "X_train_copy = X_train.astype(float).copy()\n",
    "y_train_copy = y_train.astype(float).copy()\n",
    "  \n",
    "    \n",
    "# Instiantiate models\n",
    "models = {\n",
    "    'lr': LogisticRegression(max_iter=5_000, random_state=42, solver='saga'), \n",
    "    'rf': RandomForestClassifier(random_state=42),\n",
    "    'gb': GradientBoostingClassifier(random_state=42),\n",
    "    'dt': DecisionTreeClassifier(random_state=42),\n",
    "    'et': ExtraTreesClassifier(random_state=42),\n",
    "    'ada': AdaBoostClassifier(random_state=42),\n",
    "    'svc': SVC(random_state=42, probability=True),\n",
    "    'xgb': XGBClassifier(random_state=42, eval_metric='mlogloss', verbosity=1, n_jobs=-1)}\n",
    "\n",
    "    # Instantiate lists to store results\n",
    "init_list = []\n",
    "gs_list = []\n",
    "\n",
    "for m in models:\n",
    "    run_model(m)\n",
    "\n",
    "result_df = pd.DataFrame(init_list).sort_values(by=[\"val_accuracy\"], ascending=False).reset_index(drop=True)\n",
    "display(result_df)\n",
    "\n",
    "X_train = X_train_copy\n",
    "y_train = y_train_copy"
   ]
  },
  {
   "cell_type": "markdown",
   "metadata": {},
   "source": [
    "## Appendix"
   ]
  },
  {
   "cell_type": "code",
   "execution_count": 61,
   "metadata": {},
   "outputs": [],
   "source": [
    "# Set up parameters specific to CVEC and logistic regression\n",
    "logr_cvec_params = {\n",
    "    'logr__max_iter': [100, 200]\n",
    "}"
   ]
  },
  {
   "cell_type": "code",
   "execution_count": 62,
   "metadata": {},
   "outputs": [],
   "source": [
    "# Initialize GridSearchCV\n",
    "gs_logr = GridSearchCV(pipe_logr, param_grid = logr_cvec_params, cv=5, verbose=1)"
   ]
  },
  {
   "cell_type": "code",
   "execution_count": 63,
   "metadata": {},
   "outputs": [
    {
     "name": "stdout",
     "output_type": "stream",
     "text": [
      "Fitting 5 folds for each of 2 candidates, totalling 10 fits\n"
     ]
    },
    {
     "data": {
      "text/plain": [
       "GridSearchCV(cv=5,\n",
       "             estimator=Pipeline(steps=[('ss', StandardScaler()),\n",
       "                                       ('logr', LogisticRegression())]),\n",
       "             param_grid={'logr__max_iter': [100, 200]}, verbose=1)"
      ]
     },
     "execution_count": 63,
     "metadata": {},
     "output_type": "execute_result"
    }
   ],
   "source": [
    "gs_logr.fit(X_train, y_train)"
   ]
  },
  {
   "cell_type": "code",
   "execution_count": 64,
   "metadata": {},
   "outputs": [
    {
     "name": "stdout",
     "output_type": "stream",
     "text": [
      "0.9168490153172867\n"
     ]
    },
    {
     "data": {
      "image/png": "[encoded data removed]",
      "text/plain": [
       "<Figure size 432x288 with 2 Axes>"
      ]
     },
     "metadata": {
      "needs_background": "light"
     },
     "output_type": "display_data"
    }
   ],
   "source": [
    "# Generating predictions for our test data\n",
    "gs_logr_preds = gs_logr.best_estimator_.predict(X_train)\n",
    "\n",
    "# Creating a confusion matrix\n",
    "gs_logr_cm = confusion_matrix(y_train, gs_logr_preds)\n",
    "print(gs_logr.best_estimator_.score(X_train, y_train))\n",
    "ConfusionMatrixDisplay(confusion_matrix = gs_logr_cm, display_labels=['No pullback', 'Pullback']).plot();"
   ]
  },
  {
   "cell_type": "code",
   "execution_count": 65,
   "metadata": {},
   "outputs": [
    {
     "name": "stdout",
     "output_type": "stream",
     "text": [
      "0.45454545454545453\n"
     ]
    },
    {
     "data": {
      "image/png": "[encoded data removed]",
      "text/plain": [
       "<Figure size 432x288 with 2 Axes>"
      ]
     },
     "metadata": {
      "needs_background": "light"
     },
     "output_type": "display_data"
    }
   ],
   "source": [
    "# Generating predictions for our test data\n",
    "gs_logr_preds = gs_logr.best_estimator_.predict(X_validate)\n",
    "\n",
    "# Creating a confusion matrix\n",
    "gs_logr_cm = confusion_matrix(y_validate, gs_logr_preds)\n",
    "print(gs_logr.best_estimator_.score(X_validate, y_validate))\n",
    "ConfusionMatrixDisplay(confusion_matrix = gs_logr_cm, display_labels=['No pullback', 'Pullback']).plot();"
   ]
  },
  {
   "cell_type": "code",
   "execution_count": 66,
   "metadata": {},
   "outputs": [
    {
     "name": "stdout",
     "output_type": "stream",
     "text": [
      "0.5923566878980892\n"
     ]
    },
    {
     "data": {
      "image/png": "[encoded data removed]",
      "text/plain": [
       "<Figure size 432x288 with 2 Axes>"
      ]
     },
     "metadata": {
      "needs_background": "light"
     },
     "output_type": "display_data"
    }
   ],
   "source": [
    "# Generating predictions for our test data\n",
    "gs_logr_preds = gs_logr.best_estimator_.predict(X_test)\n",
    "\n",
    "# Creating a confusion matrix\n",
    "gs_logr_cm = confusion_matrix(y_test, gs_logr_preds)\n",
    "print(gs_logr.best_estimator_.score(X_test, y_test))\n",
    "ConfusionMatrixDisplay(confusion_matrix = gs_logr_cm, display_labels=['No pullback', 'Pullback']).plot();"
   ]
  },
  {
   "cell_type": "code",
   "execution_count": null,
   "metadata": {},
   "outputs": [],
   "source": []
  }
 ],
 "metadata": {
  "interpreter": {
   "hash": "686ebd21d830b5e85077fe54ac44c708c86b5f3b5f3e0918a9879f98d13a9c29"
  },
  "kernelspec": {
   "display_name": "Python 3.8.8 ('base')",
   "language": "python",
   "name": "python3"
  },
  "language_info": {
   "codemirror_mode": {
    "name": "ipython",
    "version": 3
   },
   "file_extension": ".py",
   "mimetype": "text/x-python",
   "name": "python",
   "nbconvert_exporter": "python",
   "pygments_lexer": "ipython3",
   "version": "3.8.8"
  },
  "orig_nbformat": 4
 },
 "nbformat": 4,
 "nbformat_minor": 2
}
