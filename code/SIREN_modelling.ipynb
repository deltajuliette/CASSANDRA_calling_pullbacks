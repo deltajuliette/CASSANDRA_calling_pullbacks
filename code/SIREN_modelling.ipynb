{
 "cells": [
  {
   "cell_type": "markdown",
   "metadata": {},
   "source": [
    "# Introducing SIREN"
   ]
  },
  {
   "cell_type": "code",
   "execution_count": 20,
   "metadata": {},
   "outputs": [],
   "source": [
    "import pandas as pd\n",
    "import pickle\n",
    "import SIREN_func"
   ]
  },
  {
   "cell_type": "code",
   "execution_count": 21,
   "metadata": {},
   "outputs": [],
   "source": [
    "full = pd.read_pickle('../data/full.pkl')"
   ]
  },
  {
   "cell_type": "code",
   "execution_count": 22,
   "metadata": {},
   "outputs": [
    {
     "name": "stdout",
     "output_type": "stream",
     "text": [
      "Dataset Statistics:\n",
      "Shape of dataframe: (823, 285)\n",
      "% of Null values in dataframe: 0.0%\n",
      "% duplicate rows: 0.0%\n",
      "\n",
      "Column names: Index(['eri', 'eri_1m_chg', 'eri_3m_chg', 'cesiusd_1w_chg', 'cesieur_1w_chg',\n",
      "       'cesigbp_1w_chg', 'cesijpy_1w_chg', 'cesicny_1w_chg', 'cesiglf_1w_chg',\n",
      "       'cesiusd_4w_chg',\n",
      "       ...\n",
      "       'skew', 'aaii_bull', 'aaii_bear', 'aaii_neut', 'cftc_nc_net',\n",
      "       'cftc_nc_long', 'cftc_nc_short', 'cftc_oi', 'cftc_nc_net_pct_oi',\n",
      "       'cboe_us'],\n",
      "      dtype='object', length=285)\n",
      "Columns Count: \n",
      "float64    285\n",
      "dtype: int64\n"
     ]
    }
   ],
   "source": [
    "# Preview dataset\n",
    "SIREN_func.eda_clean(full)"
   ]
  },
  {
   "cell_type": "code",
   "execution_count": 16,
   "metadata": {},
   "outputs": [],
   "source": [
    "X = full.copy().drop(columns=['']).reset_index()\n",
    "X_train = X.loc[X['date'] < '2015']\n",
    "X_validate = X.loc[(X['date'] >= '2015') & (X['date'] < '2019')]\n",
    "X_test = X.loc[(X['date'] >= '2019') & (X['date'] != '2020')]"
   ]
  },
  {
   "cell_type": "code",
   "execution_count": null,
   "metadata": {},
   "outputs": [],
   "source": []
  }
 ],
 "metadata": {
  "interpreter": {
   "hash": "686ebd21d830b5e85077fe54ac44c708c86b5f3b5f3e0918a9879f98d13a9c29"
  },
  "kernelspec": {
   "display_name": "Python 3.8.8 ('base')",
   "language": "python",
   "name": "python3"
  },
  "language_info": {
   "codemirror_mode": {
    "name": "ipython",
    "version": 3
   },
   "file_extension": ".py",
   "mimetype": "text/x-python",
   "name": "python",
   "nbconvert_exporter": "python",
   "pygments_lexer": "ipython3",
   "version": "3.8.8"
  },
  "orig_nbformat": 4
 },
 "nbformat": 4,
 "nbformat_minor": 2
}
